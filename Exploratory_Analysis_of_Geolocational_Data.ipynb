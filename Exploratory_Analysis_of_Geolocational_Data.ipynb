{
  "nbformat": 4,
  "nbformat_minor": 0,
  "metadata": {
    "colab": {
      "name": "Exploratory_Analysis_of_Geolocational_Data.ipynb",
      "provenance": [],
      "authorship_tag": "ABX9TyM5aObSqRRyeM3xxRFhUNhT",
      "include_colab_link": true
    },
    "kernelspec": {
      "name": "python3",
      "display_name": "Python 3"
    },
    "language_info": {
      "name": "python"
    }
  },
  "cells": [
    {
      "cell_type": "markdown",
      "metadata": {
        "id": "view-in-github",
        "colab_type": "text"
      },
      "source": [
        "<a href=\"https://colab.research.google.com/github/Harsh-0-7/Kaggle-Competitions/blob/master/Exploratory_Analysis_of_Geolocational_Data.ipynb\" target=\"_parent\"><img src=\"https://colab.research.google.com/assets/colab-badge.svg\" alt=\"Open In Colab\"/></a>"
      ]
    },
    {
      "cell_type": "code",
      "metadata": {
        "id": "_dIb7Rmjv8IL"
      },
      "source": [
        "#install kaggle\n",
        "!pip install -q kaggle "
      ],
      "execution_count": 1,
      "outputs": []
    },
    {
      "cell_type": "code",
      "metadata": {
        "colab": {
          "resources": {
            "http://localhost:8080/nbextensions/google.colab/files.js": {
              "data": "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",
              "ok": true,
              "headers": [
                [
                  "content-type",
                  "application/javascript"
                ]
              ],
              "status": 200,
              "status_text": ""
            }
          },
          "base_uri": "https://localhost:8080/",
          "height": 91
        },
        "id": "8Zv71QxN0IU6",
        "outputId": "50bcdb79-ef44-4281-8166-5706d85b0011"
      },
      "source": [
        "#To upload kaggle.json file from local system\n",
        "from google.colab import files\n",
        "files.upload()"
      ],
      "execution_count": 2,
      "outputs": [
        {
          "output_type": "display_data",
          "data": {
            "text/html": [
              "\n",
              "     <input type=\"file\" id=\"files-c32b5377-e80f-4e50-b11d-705f52ac8866\" name=\"files[]\" multiple disabled\n",
              "        style=\"border:none\" />\n",
              "     <output id=\"result-c32b5377-e80f-4e50-b11d-705f52ac8866\">\n",
              "      Upload widget is only available when the cell has been executed in the\n",
              "      current browser session. Please rerun this cell to enable.\n",
              "      </output>\n",
              "      <script src=\"/nbextensions/google.colab/files.js\"></script> "
            ],
            "text/plain": [
              "<IPython.core.display.HTML object>"
            ]
          },
          "metadata": {}
        },
        {
          "output_type": "stream",
          "name": "stdout",
          "text": [
            "Saving kaggle.json to kaggle.json\n"
          ]
        },
        {
          "output_type": "execute_result",
          "data": {
            "text/plain": [
              "{'kaggle.json': b'{\"username\":\"harshhiteshshah\",\"key\":\"f440ed8d6c77219d1373613b4fd3d6eb\"}'}"
            ]
          },
          "metadata": {},
          "execution_count": 2
        }
      ]
    },
    {
      "cell_type": "code",
      "metadata": {
        "id": "u_7F8_QX0dTU"
      },
      "source": [
        "#create directory\n",
        "!mkdir ~/.kaggle"
      ],
      "execution_count": 3,
      "outputs": []
    },
    {
      "cell_type": "code",
      "metadata": {
        "id": "EUPueD550sZf"
      },
      "source": [
        "#copy json file to kaggle folder\n",
        "!cp kaggle.json ~/.kaggle/"
      ],
      "execution_count": 4,
      "outputs": []
    },
    {
      "cell_type": "code",
      "metadata": {
        "id": "NQR0n5A71BM4"
      },
      "source": [
        "#Change premission of json file to act\n",
        "! chmod 600 ~/.kaggle/kaggle.json"
      ],
      "execution_count": 5,
      "outputs": []
    },
    {
      "cell_type": "code",
      "metadata": {
        "colab": {
          "base_uri": "https://localhost:8080/"
        },
        "id": "DYHXRafa1Xx2",
        "outputId": "dd77c472-7d6a-43c3-a1eb-f9e48c2587c9"
      },
      "source": [
        "# To list all dataset in kaggle\n",
        "! kaggle datasets list"
      ],
      "execution_count": 6,
      "outputs": [
        {
          "output_type": "stream",
          "name": "stdout",
          "text": [
            "Warning: Looks like you're using an outdated API Version, please consider updating (server 1.5.12 / client 1.5.4)\n",
            "ref                                                         title                                              size  lastUpdated          downloadCount  \n",
            "----------------------------------------------------------  ------------------------------------------------  -----  -------------------  -------------  \n",
            "gpreda/reddit-vaccine-myths                                 Reddit Vaccine Myths                              235KB  2021-09-09 20:40:01          11895  \n",
            "crowww/a-large-scale-fish-dataset                           A Large Scale Fish Dataset                          3GB  2021-04-28 17:03:01           7230  \n",
            "imsparsh/musicnet-dataset                                   MusicNet Dataset                                   22GB  2021-02-18 14:12:19           2838  \n",
            "dhruvildave/wikibooks-dataset                               Wikibooks Dataset                                   2GB  2021-07-03 18:37:20           2850  \n",
            "nickuzmenkov/nih-chest-xrays-tfrecords                      NIH Chest X-rays TFRecords                         11GB  2021-03-09 04:49:23           1092  \n",
            "promptcloud/careerbuilder-job-listing-2020                  Careerbuilder Job Listing 2020                     42MB  2021-03-05 06:59:52           1846  \n",
            "mathurinache/twitter-edge-nodes                             Twitter Edge Nodes                                342MB  2021-03-08 06:43:04            897  \n",
            "fatiimaezzahra/famous-iconic-women                          Famous Iconic Women                               838MB  2021-02-28 14:56:00           1333  \n",
            "simiotic/github-code-snippets                               GitHub Code Snippets                                7GB  2021-03-03 11:34:39            323  \n",
            "alsgroup/end-als                                            End ALS Kaggle Challenge                           12GB  2021-04-08 12:16:37            880  \n",
            "coloradokb/dandelionimages                                  DandelionImages                                     4GB  2021-02-19 20:03:47            774  \n",
            "mathurinache/the-lj-speech-dataset                          The LJ Speech Dataset                               3GB  2021-02-15 09:19:54            328  \n",
            "landrykezebou/lvzhdr-tone-mapping-benchmark-dataset-tmonet  LVZ-HDR Tone Mapping Benchmark Dataset (TMO-Net)   24GB  2021-03-01 05:03:40            185  \n",
            "stuartjames/lights                                          LightS: Light Specularity Dataset                  18GB  2021-02-18 14:32:26            139  \n",
            "nickuzmenkov/ranzcr-clip-kfold-tfrecords                    RANZCR CLiP KFold TFRecords                         2GB  2021-02-21 13:29:51            127  \n",
            "imsparsh/accentdb-core-extended                             AccentDB - Core & Extended                          6GB  2021-02-17 14:22:54            138  \n",
            "datasnaek/youtube-new                                       Trending YouTube Video Statistics                 201MB  2019-06-03 00:56:47         149502  \n",
            "residentmario/ramen-ratings                                 Ramen Ratings                                      40KB  2018-01-11 16:04:39          26686  \n",
            "zynicide/wine-reviews                                       Wine Reviews                                       51MB  2017-11-27 17:08:04         143312  \n",
            "datasnaek/chess                                             Chess Game Dataset (Lichess)                        3MB  2017-09-04 03:09:09          21510  \n"
          ]
        }
      ]
    },
    {
      "cell_type": "code",
      "metadata": {
        "colab": {
          "base_uri": "https://localhost:8080/"
        },
        "id": "8vfPj9Dn1nCv",
        "outputId": "908ce308-729f-4b2d-f0ec-d19e00601dbb"
      },
      "source": [
        "#Downloading Required Dataset from kaggle\n",
        "! kaggle datasets download -d borapajo/food-choices"
      ],
      "execution_count": 11,
      "outputs": [
        {
          "output_type": "stream",
          "name": "stdout",
          "text": [
            "Downloading food-choices.zip to /content\n",
            "\r  0% 0.00/5.25M [00:00<?, ?B/s]\n",
            "\r100% 5.25M/5.25M [00:00<00:00, 48.5MB/s]\n"
          ]
        }
      ]
    },
    {
      "cell_type": "code",
      "metadata": {
        "colab": {
          "base_uri": "https://localhost:8080/"
        },
        "id": "YV5fwT3G2Yfd",
        "outputId": "b52109ef-a955-47f9-f8e3-ac26a9bdd5da"
      },
      "source": [
        "#Unzipping .zip file\n",
        "!unzip food-choices.zip"
      ],
      "execution_count": 13,
      "outputs": [
        {
          "output_type": "stream",
          "name": "stdout",
          "text": [
            "Archive:  food-choices.zip\n",
            "  inflating: codebook_food.docx      \n",
            "  inflating: food_coded.csv          \n"
          ]
        }
      ]
    },
    {
      "cell_type": "code",
      "metadata": {
        "colab": {
          "base_uri": "https://localhost:8080/"
        },
        "id": "zttp8du43GLl",
        "outputId": "17805ee9-b6ec-4743-801a-594d5acd2dd9"
      },
      "source": [
        "import pandas as pd\n",
        "import numpy as np\n",
        "full_dataset=pd.read_csv(\"food_coded.csv\");\n",
        "print(full_dataset.head())\n",
        "print(full_dataset.info())\n",
        "#print(full_dataset.describe())"
      ],
      "execution_count": 24,
      "outputs": [
        {
          "output_type": "stream",
          "name": "stdout",
          "text": [
            "     GPA  Gender  ...  waffle_calories                    weight\n",
            "0    2.4       2  ...             1315                       187\n",
            "1  3.654       1  ...              900                       155\n",
            "2    3.3       1  ...              900  I'm not answering this. \n",
            "3    3.2       1  ...             1315             Not sure, 240\n",
            "4    3.5       1  ...              760                       190\n",
            "\n",
            "[5 rows x 61 columns]\n",
            "<class 'pandas.core.frame.DataFrame'>\n",
            "RangeIndex: 125 entries, 0 to 124\n",
            "Data columns (total 61 columns):\n",
            " #   Column                        Non-Null Count  Dtype  \n",
            "---  ------                        --------------  -----  \n",
            " 0   GPA                           123 non-null    object \n",
            " 1   Gender                        125 non-null    int64  \n",
            " 2   breakfast                     125 non-null    int64  \n",
            " 3   calories_chicken              125 non-null    int64  \n",
            " 4   calories_day                  106 non-null    float64\n",
            " 5   calories_scone                124 non-null    float64\n",
            " 6   coffee                        125 non-null    int64  \n",
            " 7   comfort_food                  124 non-null    object \n",
            " 8   comfort_food_reasons          124 non-null    object \n",
            " 9   comfort_food_reasons_coded    106 non-null    float64\n",
            " 10  cook                          122 non-null    float64\n",
            " 11  comfort_food_reasons_coded.1  125 non-null    int64  \n",
            " 12  cuisine                       108 non-null    float64\n",
            " 13  diet_current                  124 non-null    object \n",
            " 14  diet_current_coded            125 non-null    int64  \n",
            " 15  drink                         123 non-null    float64\n",
            " 16  eating_changes                122 non-null    object \n",
            " 17  eating_changes_coded          125 non-null    int64  \n",
            " 18  eating_changes_coded1         125 non-null    int64  \n",
            " 19  eating_out                    125 non-null    int64  \n",
            " 20  employment                    116 non-null    float64\n",
            " 21  ethnic_food                   125 non-null    int64  \n",
            " 22  exercise                      112 non-null    float64\n",
            " 23  father_education              124 non-null    float64\n",
            " 24  father_profession             122 non-null    object \n",
            " 25  fav_cuisine                   123 non-null    object \n",
            " 26  fav_cuisine_coded             125 non-null    int64  \n",
            " 27  fav_food                      123 non-null    float64\n",
            " 28  food_childhood                124 non-null    object \n",
            " 29  fries                         125 non-null    int64  \n",
            " 30  fruit_day                     125 non-null    int64  \n",
            " 31  grade_level                   125 non-null    int64  \n",
            " 32  greek_food                    125 non-null    int64  \n",
            " 33  healthy_feeling               125 non-null    int64  \n",
            " 34  healthy_meal                  124 non-null    object \n",
            " 35  ideal_diet                    124 non-null    object \n",
            " 36  ideal_diet_coded              125 non-null    int64  \n",
            " 37  income                        124 non-null    float64\n",
            " 38  indian_food                   125 non-null    int64  \n",
            " 39  italian_food                  125 non-null    int64  \n",
            " 40  life_rewarding                124 non-null    float64\n",
            " 41  marital_status                124 non-null    float64\n",
            " 42  meals_dinner_friend           122 non-null    object \n",
            " 43  mother_education              122 non-null    float64\n",
            " 44  mother_profession             123 non-null    object \n",
            " 45  nutritional_check             125 non-null    int64  \n",
            " 46  on_off_campus                 124 non-null    float64\n",
            " 47  parents_cook                  125 non-null    int64  \n",
            " 48  pay_meal_out                  125 non-null    int64  \n",
            " 49  persian_food                  124 non-null    float64\n",
            " 50  self_perception_weight        124 non-null    float64\n",
            " 51  soup                          124 non-null    float64\n",
            " 52  sports                        123 non-null    float64\n",
            " 53  thai_food                     125 non-null    int64  \n",
            " 54  tortilla_calories             124 non-null    float64\n",
            " 55  turkey_calories               125 non-null    int64  \n",
            " 56  type_sports                   104 non-null    object \n",
            " 57  veggies_day                   125 non-null    int64  \n",
            " 58  vitamins                      125 non-null    int64  \n",
            " 59  waffle_calories               125 non-null    int64  \n",
            " 60  weight                        123 non-null    object \n",
            "dtypes: float64(20), int64(27), object(14)\n",
            "memory usage: 59.7+ KB\n",
            "None\n"
          ]
        }
      ]
    },
    {
      "cell_type": "code",
      "metadata": {
        "colab": {
          "base_uri": "https://localhost:8080/"
        },
        "id": "efg2IbZN-YOH",
        "outputId": "2ca3741e-f5da-4b81-b5a4-0b838e9e7dcb"
      },
      "source": [
        "relevent=full_dataset[['cook','eating_out','employment','ethnic_food','exercise','fruit_day','income','on_off_campus','pay_meal_out','sports','veggies_day']]\n",
        "missing_values_count = relevent.isnull().sum()\n",
        "print(missing_values_count)\n",
        "# how many total missing values do we have?\n",
        "total_cells = np.product(relevent.shape)\n",
        "total_missing = missing_values_count.sum()\n",
        "\n",
        "# percent of data that is missing\n",
        "percent_missing = (total_missing/total_cells) * 100\n",
        "print(percent_missing)\n",
        "\n"
      ],
      "execution_count": 25,
      "outputs": [
        {
          "output_type": "stream",
          "name": "stdout",
          "text": [
            "cook              3\n",
            "eating_out        0\n",
            "employment        9\n",
            "ethnic_food       0\n",
            "exercise         13\n",
            "fruit_day         0\n",
            "income            1\n",
            "on_off_campus     1\n",
            "pay_meal_out      0\n",
            "sports            2\n",
            "veggies_day       0\n",
            "dtype: int64\n",
            "2.109090909090909\n"
          ]
        }
      ]
    },
    {
      "cell_type": "code",
      "metadata": {
        "colab": {
          "base_uri": "https://localhost:8080/"
        },
        "id": "XwbWyQSp_1Ew",
        "outputId": "270dc899-cbec-4dc5-8583-02f5c9708278"
      },
      "source": [
        "#As percent missing is less than 5%,we are dropping rows containing missing values.\n",
        "relevent_with_no_na=relevent.dropna(axis=0)\n",
        "print(relevent_with_no_na.shape[0])"
      ],
      "execution_count": 26,
      "outputs": [
        {
          "output_type": "stream",
          "name": "stdout",
          "text": [
            "100\n"
          ]
        }
      ]
    },
    {
      "cell_type": "code",
      "metadata": {
        "id": "MxBYtdpvOOUd"
      },
      "source": [
        "import matplotlib.pyplot as plt\n",
        "import seaborn as sns\n",
        "from sklearn.cluster import KMeans"
      ],
      "execution_count": 60,
      "outputs": []
    },
    {
      "cell_type": "code",
      "metadata": {
        "colab": {
          "base_uri": "https://localhost:8080/",
          "height": 527
        },
        "id": "-UrUXGZwO_Ly",
        "outputId": "86ea36f4-fdaa-47ba-bc1b-afefe1a1f957"
      },
      "source": [
        "fig = plt.figure(figsize =(50, 20))\n",
        " \n",
        "# Creating plot\n",
        "ax=sns.boxplot(data=relevent_with_no_na,linewidth=5)\n",
        "\n",
        "# show plot\n",
        "plt.show()"
      ],
      "execution_count": 59,
      "outputs": [
        {
          "output_type": "display_data",
          "data": {
            "image/png": "[encoded data removed]",
            "text/plain": [
              "<Figure size 3600x1440 with 1 Axes>"
            ]
          },
          "metadata": {
            "needs_background": "light"
          }
        }
      ]
    },
    {
      "cell_type": "code",
      "metadata": {
        "colab": {
          "base_uri": "https://localhost:8080/"
        },
        "id": "-awwz_c3PHwJ",
        "outputId": "715f730b-adf5-4340-c4fc-e6fd9ae7299d"
      },
      "source": [
        "kmeans5 = KMeans(n_clusters=5)\n",
        "y_kmeans5 = kmeans5.fit_predict(relevent_with_no_na)\n",
        "print(y_kmeans5)\n",
        "\n",
        "kmeans5.cluster_centers_"
      ],
      "execution_count": 61,
      "outputs": [
        {
          "output_type": "stream",
          "name": "stdout",
          "text": [
            "[4 3 3 3 3 2 3 0 3 1 3 3 3 3 2 1 0 4 4 0 0 3 4 2 0 2 3 3 1 2 0 4 3 3 3 0 3\n",
            " 1 3 3 3 1 3 3 4 3 4 3 3 2 4 3 1 4 3 3 4 1 3 3 4 1 3 2 2 3 3 2 2 3 4 3 0 1\n",
            " 0 2 2 3 3 2 0 0 1 3 3 3 0 4 2 2 3 4 2 0 1 1 1 1 1 4]\n"
          ]
        },
        {
          "output_type": "execute_result",
          "data": {
            "text/plain": [
              "array([[3.92307692, 2.38461538, 2.53846154, 2.92307692, 1.15384615,\n",
              "        4.53846154, 5.84615385, 1.30769231, 4.61538462, 1.07692308,\n",
              "        3.76923077],\n",
              "       [2.6       , 2.2       , 2.2       , 4.13333333, 1.66666667,\n",
              "        4.8       , 2.46666667, 1.8       , 3.06666667, 1.6       ,\n",
              "        4.86666667],\n",
              "       [2.625     , 2.625     , 2.375     , 2.8125    , 1.9375    ,\n",
              "        2.9375    , 3.875     , 1.4375    , 3.625     , 1.5       ,\n",
              "        2.3125    ],\n",
              "       [2.6097561 , 2.34146341, 2.53658537, 4.56097561, 1.58536585,\n",
              "        4.56097561, 5.14634146, 1.2195122 , 3.34146341, 1.24390244,\n",
              "        4.43902439],\n",
              "       [2.46666667, 3.33333333, 2.46666667, 2.33333333, 1.6       ,\n",
              "        4.        , 5.33333333, 1.26666667, 2.86666667, 1.46666667,\n",
              "        3.8       ]])"
            ]
          },
          "metadata": {},
          "execution_count": 61
        }
      ]
    },
    {
      "cell_type": "code",
      "metadata": {
        "colab": {
          "base_uri": "https://localhost:8080/",
          "height": 295
        },
        "id": "WBut8XVWX87d",
        "outputId": "0a541269-06ea-4159-d660-d9730d3a2324"
      },
      "source": [
        "Error =[]\n",
        "for i in range(1, 100):\n",
        "    kmeans = KMeans(n_clusters = i).fit(relevent_with_no_na)\n",
        "    kmeans.fit(relevent_with_no_na)\n",
        "    Error.append(kmeans.inertia_)\n",
        "\n",
        "plt.plot(range(1, 100), Error)\n",
        "plt.title('Elbow method')\n",
        "plt.xlabel('No of clusters')\n",
        "plt.ylabel('Error')\n",
        "plt.show()"
      ],
      "execution_count": 65,
      "outputs": [
        {
          "output_type": "display_data",
          "data": {
            "image/png": "[encoded data removed]",
            "text/plain": [
              "<Figure size 432x288 with 1 Axes>"
            ]
          },
          "metadata": {
            "needs_background": "light"
          }
        }
      ]
    },
    {
      "cell_type": "code",
      "metadata": {
        "colab": {
          "base_uri": "https://localhost:8080/"
        },
        "id": "__Ox7t4BYUOA",
        "outputId": "a6ab1e60-76c1-4ce5-9045-8aefd6064baf"
      },
      "source": [
        "kmeans25 = KMeans(n_clusters=25)\n",
        "y_kmeans25 = kmeans25.fit_predict(relevent_with_no_na)\n",
        "print(y_kmeans25)\n"
      ],
      "execution_count": 67,
      "outputs": [
        {
          "output_type": "stream",
          "name": "stdout",
          "text": [
            "[ 9 13  7  8 13 22  7  4  7  2  7  1  3  7 23 12  4 24 15  0  0  1  0  0\n",
            "  4  8  3  1 20  1 16  9  3  8 13  6 13  2 10  1 13 12  3 10 21  3  9 10\n",
            "  3  1  6  3  2  8  3  4  9 11 10  7  6 20 13 14 14 13 13  1  5  7  8  7\n",
            " 16 11 16  8 17  1 13  8  4 19 11  7  7 13 16  8  5 18  3  8  5  0 11 20\n",
            " 11 20  5  6]\n"
          ]
        }
      ]
    },
    {
      "cell_type": "code",
      "metadata": {
        "colab": {
          "base_uri": "https://localhost:8080/"
        },
        "id": "0IRwD_coZSSM",
        "outputId": "f726904b-129f-4890-9c12-094b50d110fc"
      },
      "source": [
        "kmeans25.cluster_centers_"
      ],
      "execution_count": 68,
      "outputs": [
        {
          "output_type": "execute_result",
          "data": {
            "text/plain": [
              "array([[3.6       , 1.6       , 2.2       , 2.4       , 1.        ,\n",
              "        3.8       , 5.8       , 1.        , 4.4       , 1.        ,\n",
              "        2.6       ],\n",
              "       [3.5       , 2.125     , 2.375     , 4.25      , 2.5       ,\n",
              "        3.375     , 4.125     , 1.5       , 2.875     , 1.5       ,\n",
              "        3.625     ],\n",
              "       [1.33333333, 3.        , 1.66666667, 4.33333333, 1.        ,\n",
              "        5.        , 2.66666667, 1.66666667, 2.33333333, 1.33333333,\n",
              "        5.        ],\n",
              "       [2.66666667, 4.        , 2.66666667, 4.88888889, 1.33333333,\n",
              "        5.        , 5.55555556, 1.22222222, 3.33333333, 1.22222222,\n",
              "        4.55555556],\n",
              "       [3.2       , 1.8       , 2.6       , 3.2       , 1.2       ,\n",
              "        4.6       , 5.6       , 1.        , 5.2       , 1.2       ,\n",
              "        4.6       ],\n",
              "       [3.        , 3.25      , 3.        , 4.        , 1.75      ,\n",
              "        3.75      , 3.        , 1.25      , 4.5       , 1.25      ,\n",
              "        3.        ],\n",
              "       [3.        , 4.75      , 2.5       , 2.5       , 1.        ,\n",
              "        4.25      , 5.5       , 1.75      , 3.        , 1.25      ,\n",
              "        3.5       ],\n",
              "       [2.3       , 1.8       , 2.6       , 4.7       , 1.7       ,\n",
              "        4.9       , 4.9       , 1.3       , 2.7       , 1.4       ,\n",
              "        4.8       ],\n",
              "       [2.11111111, 2.55555556, 2.22222222, 3.11111111, 2.44444444,\n",
              "        3.44444444, 5.88888889, 1.11111111, 3.22222222, 1.88888889,\n",
              "        2.66666667],\n",
              "       [1.75      , 2.5       , 2.75      , 1.75      , 1.25      ,\n",
              "        4.25      , 5.        , 1.5       , 2.75      , 1.25      ,\n",
              "        4.75      ],\n",
              "       [1.25      , 2.        , 2.25      , 5.        , 1.25      ,\n",
              "        5.        , 5.25      , 1.5       , 5.5       , 1.        ,\n",
              "        5.        ],\n",
              "       [2.8       , 2.2       , 2.2       , 4.8       , 1.8       ,\n",
              "        5.        , 2.2       , 1.        , 2.8       , 1.4       ,\n",
              "        5.        ],\n",
              "       [4.        , 1.5       , 2.5       , 2.        , 1.5       ,\n",
              "        4.5       , 1.        , 2.        , 2.5       , 2.        ,\n",
              "        5.        ],\n",
              "       [2.9       , 1.9       , 2.5       , 4.1       , 1.1       ,\n",
              "        4.3       , 5.1       , 1.        , 3.3       , 1.2       ,\n",
              "        4.        ],\n",
              "       [2.        , 2.        , 2.        , 1.5       , 2.        ,\n",
              "        3.5       , 3.        , 1.5       , 3.        , 1.        ,\n",
              "        2.        ],\n",
              "       [5.        , 4.        , 2.        , 4.        , 1.        ,\n",
              "        2.        , 6.        , 1.        , 2.        , 1.        ,\n",
              "        3.        ],\n",
              "       [4.25      , 2.25      , 2.75      , 2.5       , 1.        ,\n",
              "        4.75      , 6.        , 1.        , 3.5       , 1.        ,\n",
              "        4.25      ],\n",
              "       [2.        , 5.        , 2.        , 1.        , 3.        ,\n",
              "        1.        , 3.        , 1.        , 3.        , 1.        ,\n",
              "        4.        ],\n",
              "       [2.        , 2.        , 2.        , 3.        , 2.        ,\n",
              "        3.        , 5.        , 3.        , 6.        , 2.        ,\n",
              "        3.        ],\n",
              "       [4.        , 5.        , 3.        , 5.        , 2.        ,\n",
              "        5.        , 6.        , 4.        , 6.        , 1.        ,\n",
              "        4.        ],\n",
              "       [2.5       , 1.75      , 2.25      , 4.        , 2.        ,\n",
              "        4.75      , 3.5       , 3.        , 4.        , 1.75      ,\n",
              "        4.75      ],\n",
              "       [3.        , 5.        , 3.        , 3.        , 1.        ,\n",
              "        4.        , 3.        , 1.        , 2.        , 1.        ,\n",
              "        4.        ],\n",
              "       [3.        , 1.        , 3.        , 4.        , 2.        ,\n",
              "        2.        , 1.        , 1.        , 5.        , 2.        ,\n",
              "        1.        ],\n",
              "       [4.        , 4.        , 3.        , 1.        , 1.        ,\n",
              "        3.        , 4.        , 1.        , 3.        , 1.        ,\n",
              "        1.        ],\n",
              "       [3.        , 3.        , 2.        , 1.        , 3.        ,\n",
              "        5.        , 5.        , 1.        , 2.        , 2.        ,\n",
              "        5.        ]])"
            ]
          },
          "metadata": {},
          "execution_count": 68
        }
      ]
    },
    {
      "cell_type": "code",
      "metadata": {
        "id": "FJfQiB4fZZo7"
      },
      "source": [
        "#plt.scatter(relevent_with_no_na[:,0],relevent_with_no_na[:,0],c=kmeans25,color='rainbow')"
      ],
      "execution_count": 75,
      "outputs": []
    },
    {
      "cell_type": "code",
      "metadata": {
        "id": "CJ2n2DP5aDni"
      },
      "source": [
        ""
      ],
      "execution_count": null,
      "outputs": []
    }
  ]
}