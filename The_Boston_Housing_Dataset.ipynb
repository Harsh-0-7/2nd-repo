{
  "nbformat": 4,
  "nbformat_minor": 0,
  "metadata": {
    "colab": {
      "name": "The_Boston_Housing_Dataset.ipynb",
      "provenance": [],
      "authorship_tag": "ABX9TyOmmye9xpRLSEd1m5Ab+YQe",
      "include_colab_link": true
    },
    "kernelspec": {
      "name": "python3",
      "display_name": "Python 3"
    },
    "language_info": {
      "name": "python"
    }
  },
  "cells": [
    {
      "cell_type": "markdown",
      "metadata": {
        "id": "view-in-github",
        "colab_type": "text"
      },
      "source": [
        "<a href=\"https://colab.research.google.com/github/Harsh-0-7/Kaggle-Competitions/blob/master/The_Boston_Housing_Dataset.ipynb\" target=\"_parent\"><img src=\"https://colab.research.google.com/assets/colab-badge.svg\" alt=\"Open In Colab\"/></a>"
      ]
    },
    {
      "cell_type": "markdown",
      "metadata": {
        "id": "cMSriiH5Rnjt"
      },
      "source": [
        "The Boston Housing Dataset\n",
        "\n",
        "The Boston Housing Dataset is a derived from information collected by the U.S. Census Service concerning housing in the area of [Boston MA](http://www.cs.toronto.edu/~delve/data/boston/bostonDetail.html). The following describes the dataset columns:\n",
        "\n",
        "*  CRIM - per capita crime rate by town\n",
        "*  ZN - proportion of residential land zoned for lots over 25,000 sq.ft.\n",
        "*  INDUS - proportion of non-retail business acres per town.\n",
        "*  CHAS - Charles River dummy variable (1 if tract bounds river; 0 otherwise)\n",
        "*  NOX - nitric oxides concentration (parts per 10 million)\n",
        "*  RM - average number of rooms per dwelling\n",
        "*  AGE - proportion of owner-occupied units built prior to 1940\n",
        "*  DIS - weighted distances to five Boston employment centres\n",
        "*  RAD - index of accessibility to radial highways\n",
        "*  TAX - full-value property-tax rate per \\$10,000\n",
        "*  PTRATIO - pupil-teacher ratio by town\n",
        "*  B - 1000(Bk - 0.63)^2 where Bk is the proportion of blacks by town\n",
        "*  LSTAT - % lower status of the population\n",
        "*  MEDV - Median value of owner-occupied homes in \\$1000's [Target Variable]\n",
        "\n"
      ]
    },
    {
      "cell_type": "code",
      "metadata": {
        "id": "Ia64b8bpOz7I"
      },
      "source": [
        "#Uploading Dataset\n",
        "from google.colab import files\n",
        "uploaded = files.upload()"
      ],
      "execution_count": null,
      "outputs": []
    },
    {
      "cell_type": "code",
      "metadata": {
        "id": "cJszQo-LPNcH"
      },
      "source": [
        "import pandas as pd\n",
        "import numpy as np\n",
        "import torch\n",
        "import torch.nn as nn\n"
      ],
      "execution_count": 29,
      "outputs": []
    },
    {
      "cell_type": "code",
      "metadata": {
        "id": "Oi9wezC7PgOc"
      },
      "source": [
        "#Converting to DataFrame\n",
        "dataset=pd.read_csv('housing.csv', delim_whitespace=' ', header=None,dtype='float32')"
      ],
      "execution_count": 30,
      "outputs": []
    },
    {
      "cell_type": "code",
      "metadata": {
        "colab": {
          "base_uri": "https://localhost:8080/",
          "height": 204
        },
        "id": "-1UR1p9mPuuB",
        "outputId": "cb68da9e-2a31-496a-fec1-24c935e74610"
      },
      "source": [
        "#Checking Few Records\n",
        "dataset.head()"
      ],
      "execution_count": 31,
      "outputs": [
        {
          "output_type": "execute_result",
          "data": {
            "text/html": [
              "<div>\n",
              "<style scoped>\n",
              "    .dataframe tbody tr th:only-of-type {\n",
              "        vertical-align: middle;\n",
              "    }\n",
              "\n",
              "    .dataframe tbody tr th {\n",
              "        vertical-align: top;\n",
              "    }\n",
              "\n",
              "    .dataframe thead th {\n",
              "        text-align: right;\n",
              "    }\n",
              "</style>\n",
              "<table border=\"1\" class=\"dataframe\">\n",
              "  <thead>\n",
              "    <tr style=\"text-align: right;\">\n",
              "      <th></th>\n",
              "      <th>0</th>\n",
              "      <th>1</th>\n",
              "      <th>2</th>\n",
              "      <th>3</th>\n",
              "      <th>4</th>\n",
              "      <th>5</th>\n",
              "      <th>6</th>\n",
              "      <th>7</th>\n",
              "      <th>8</th>\n",
              "      <th>9</th>\n",
              "      <th>10</th>\n",
              "      <th>11</th>\n",
              "      <th>12</th>\n",
              "      <th>13</th>\n",
              "    </tr>\n",
              "  </thead>\n",
              "  <tbody>\n",
              "    <tr>\n",
              "      <th>0</th>\n",
              "      <td>0.00632</td>\n",
              "      <td>18.0</td>\n",
              "      <td>2.31</td>\n",
              "      <td>0.0</td>\n",
              "      <td>0.538</td>\n",
              "      <td>6.575</td>\n",
              "      <td>65.199997</td>\n",
              "      <td>4.0900</td>\n",
              "      <td>1.0</td>\n",
              "      <td>296.0</td>\n",
              "      <td>15.300000</td>\n",
              "      <td>396.899994</td>\n",
              "      <td>4.98</td>\n",
              "      <td>24.000000</td>\n",
              "    </tr>\n",
              "    <tr>\n",
              "      <th>1</th>\n",
              "      <td>0.02731</td>\n",
              "      <td>0.0</td>\n",
              "      <td>7.07</td>\n",
              "      <td>0.0</td>\n",
              "      <td>0.469</td>\n",
              "      <td>6.421</td>\n",
              "      <td>78.900002</td>\n",
              "      <td>4.9671</td>\n",
              "      <td>2.0</td>\n",
              "      <td>242.0</td>\n",
              "      <td>17.799999</td>\n",
              "      <td>396.899994</td>\n",
              "      <td>9.14</td>\n",
              "      <td>21.600000</td>\n",
              "    </tr>\n",
              "    <tr>\n",
              "      <th>2</th>\n",
              "      <td>0.02729</td>\n",
              "      <td>0.0</td>\n",
              "      <td>7.07</td>\n",
              "      <td>0.0</td>\n",
              "      <td>0.469</td>\n",
              "      <td>7.185</td>\n",
              "      <td>61.099998</td>\n",
              "      <td>4.9671</td>\n",
              "      <td>2.0</td>\n",
              "      <td>242.0</td>\n",
              "      <td>17.799999</td>\n",
              "      <td>392.829987</td>\n",
              "      <td>4.03</td>\n",
              "      <td>34.700001</td>\n",
              "    </tr>\n",
              "    <tr>\n",
              "      <th>3</th>\n",
              "      <td>0.03237</td>\n",
              "      <td>0.0</td>\n",
              "      <td>2.18</td>\n",
              "      <td>0.0</td>\n",
              "      <td>0.458</td>\n",
              "      <td>6.998</td>\n",
              "      <td>45.799999</td>\n",
              "      <td>6.0622</td>\n",
              "      <td>3.0</td>\n",
              "      <td>222.0</td>\n",
              "      <td>18.700001</td>\n",
              "      <td>394.630005</td>\n",
              "      <td>2.94</td>\n",
              "      <td>33.400002</td>\n",
              "    </tr>\n",
              "    <tr>\n",
              "      <th>4</th>\n",
              "      <td>0.06905</td>\n",
              "      <td>0.0</td>\n",
              "      <td>2.18</td>\n",
              "      <td>0.0</td>\n",
              "      <td>0.458</td>\n",
              "      <td>7.147</td>\n",
              "      <td>54.200001</td>\n",
              "      <td>6.0622</td>\n",
              "      <td>3.0</td>\n",
              "      <td>222.0</td>\n",
              "      <td>18.700001</td>\n",
              "      <td>396.899994</td>\n",
              "      <td>5.33</td>\n",
              "      <td>36.200001</td>\n",
              "    </tr>\n",
              "  </tbody>\n",
              "</table>\n",
              "</div>"
            ],
            "text/plain": [
              "        0     1     2    3   ...         10          11    12         13\n",
              "0  0.00632  18.0  2.31  0.0  ...  15.300000  396.899994  4.98  24.000000\n",
              "1  0.02731   0.0  7.07  0.0  ...  17.799999  396.899994  9.14  21.600000\n",
              "2  0.02729   0.0  7.07  0.0  ...  17.799999  392.829987  4.03  34.700001\n",
              "3  0.03237   0.0  2.18  0.0  ...  18.700001  394.630005  2.94  33.400002\n",
              "4  0.06905   0.0  2.18  0.0  ...  18.700001  396.899994  5.33  36.200001\n",
              "\n",
              "[5 rows x 14 columns]"
            ]
          },
          "metadata": {},
          "execution_count": 31
        }
      ]
    },
    {
      "cell_type": "code",
      "metadata": {
        "colab": {
          "base_uri": "https://localhost:8080/",
          "height": 296
        },
        "id": "iGtQLUvSQpCD",
        "outputId": "7def730d-a160-45f8-9dfd-7c3da8a063bf"
      },
      "source": [
        "dataset.describe()"
      ],
      "execution_count": 32,
      "outputs": [
        {
          "output_type": "execute_result",
          "data": {
            "text/html": [
              "<div>\n",
              "<style scoped>\n",
              "    .dataframe tbody tr th:only-of-type {\n",
              "        vertical-align: middle;\n",
              "    }\n",
              "\n",
              "    .dataframe tbody tr th {\n",
              "        vertical-align: top;\n",
              "    }\n",
              "\n",
              "    .dataframe thead th {\n",
              "        text-align: right;\n",
              "    }\n",
              "</style>\n",
              "<table border=\"1\" class=\"dataframe\">\n",
              "  <thead>\n",
              "    <tr style=\"text-align: right;\">\n",
              "      <th></th>\n",
              "      <th>0</th>\n",
              "      <th>1</th>\n",
              "      <th>2</th>\n",
              "      <th>3</th>\n",
              "      <th>4</th>\n",
              "      <th>5</th>\n",
              "      <th>6</th>\n",
              "      <th>7</th>\n",
              "      <th>8</th>\n",
              "      <th>9</th>\n",
              "      <th>10</th>\n",
              "      <th>11</th>\n",
              "      <th>12</th>\n",
              "      <th>13</th>\n",
              "    </tr>\n",
              "  </thead>\n",
              "  <tbody>\n",
              "    <tr>\n",
              "      <th>count</th>\n",
              "      <td>506.000000</td>\n",
              "      <td>506.000000</td>\n",
              "      <td>506.000000</td>\n",
              "      <td>506.000000</td>\n",
              "      <td>506.000000</td>\n",
              "      <td>506.000000</td>\n",
              "      <td>506.000000</td>\n",
              "      <td>506.000000</td>\n",
              "      <td>506.000000</td>\n",
              "      <td>506.000000</td>\n",
              "      <td>506.000000</td>\n",
              "      <td>506.000000</td>\n",
              "      <td>506.000000</td>\n",
              "      <td>506.000000</td>\n",
              "    </tr>\n",
              "    <tr>\n",
              "      <th>mean</th>\n",
              "      <td>3.613523</td>\n",
              "      <td>11.363636</td>\n",
              "      <td>11.136797</td>\n",
              "      <td>0.069170</td>\n",
              "      <td>0.554696</td>\n",
              "      <td>6.284636</td>\n",
              "      <td>68.574921</td>\n",
              "      <td>3.795043</td>\n",
              "      <td>9.549407</td>\n",
              "      <td>408.237152</td>\n",
              "      <td>18.455584</td>\n",
              "      <td>356.674561</td>\n",
              "      <td>12.653064</td>\n",
              "      <td>22.532806</td>\n",
              "    </tr>\n",
              "    <tr>\n",
              "      <th>std</th>\n",
              "      <td>8.601545</td>\n",
              "      <td>23.322390</td>\n",
              "      <td>6.860355</td>\n",
              "      <td>0.253993</td>\n",
              "      <td>0.115878</td>\n",
              "      <td>0.702617</td>\n",
              "      <td>28.148869</td>\n",
              "      <td>2.105711</td>\n",
              "      <td>8.707269</td>\n",
              "      <td>168.537170</td>\n",
              "      <td>2.164946</td>\n",
              "      <td>91.294838</td>\n",
              "      <td>7.141063</td>\n",
              "      <td>9.197104</td>\n",
              "    </tr>\n",
              "    <tr>\n",
              "      <th>min</th>\n",
              "      <td>0.006320</td>\n",
              "      <td>0.000000</td>\n",
              "      <td>0.460000</td>\n",
              "      <td>0.000000</td>\n",
              "      <td>0.385000</td>\n",
              "      <td>3.561000</td>\n",
              "      <td>2.900000</td>\n",
              "      <td>1.129600</td>\n",
              "      <td>1.000000</td>\n",
              "      <td>187.000000</td>\n",
              "      <td>12.600000</td>\n",
              "      <td>0.320000</td>\n",
              "      <td>1.730000</td>\n",
              "      <td>5.000000</td>\n",
              "    </tr>\n",
              "    <tr>\n",
              "      <th>25%</th>\n",
              "      <td>0.082045</td>\n",
              "      <td>0.000000</td>\n",
              "      <td>5.190000</td>\n",
              "      <td>0.000000</td>\n",
              "      <td>0.449000</td>\n",
              "      <td>5.885500</td>\n",
              "      <td>45.025000</td>\n",
              "      <td>2.100175</td>\n",
              "      <td>4.000000</td>\n",
              "      <td>279.000000</td>\n",
              "      <td>17.400000</td>\n",
              "      <td>375.377487</td>\n",
              "      <td>6.950000</td>\n",
              "      <td>17.025000</td>\n",
              "    </tr>\n",
              "    <tr>\n",
              "      <th>50%</th>\n",
              "      <td>0.256510</td>\n",
              "      <td>0.000000</td>\n",
              "      <td>9.690000</td>\n",
              "      <td>0.000000</td>\n",
              "      <td>0.538000</td>\n",
              "      <td>6.208500</td>\n",
              "      <td>77.500000</td>\n",
              "      <td>3.207450</td>\n",
              "      <td>5.000000</td>\n",
              "      <td>330.000000</td>\n",
              "      <td>19.050000</td>\n",
              "      <td>391.440002</td>\n",
              "      <td>11.360000</td>\n",
              "      <td>21.200001</td>\n",
              "    </tr>\n",
              "    <tr>\n",
              "      <th>75%</th>\n",
              "      <td>3.677083</td>\n",
              "      <td>12.500000</td>\n",
              "      <td>18.100000</td>\n",
              "      <td>0.000000</td>\n",
              "      <td>0.624000</td>\n",
              "      <td>6.623500</td>\n",
              "      <td>94.074999</td>\n",
              "      <td>5.188425</td>\n",
              "      <td>24.000000</td>\n",
              "      <td>666.000000</td>\n",
              "      <td>20.200001</td>\n",
              "      <td>396.225006</td>\n",
              "      <td>16.954999</td>\n",
              "      <td>25.000000</td>\n",
              "    </tr>\n",
              "    <tr>\n",
              "      <th>max</th>\n",
              "      <td>88.976196</td>\n",
              "      <td>100.000000</td>\n",
              "      <td>27.740000</td>\n",
              "      <td>1.000000</td>\n",
              "      <td>0.871000</td>\n",
              "      <td>8.780000</td>\n",
              "      <td>100.000000</td>\n",
              "      <td>12.126500</td>\n",
              "      <td>24.000000</td>\n",
              "      <td>711.000000</td>\n",
              "      <td>22.000000</td>\n",
              "      <td>396.899994</td>\n",
              "      <td>37.970001</td>\n",
              "      <td>50.000000</td>\n",
              "    </tr>\n",
              "  </tbody>\n",
              "</table>\n",
              "</div>"
            ],
            "text/plain": [
              "               0           1           2   ...          11          12          13\n",
              "count  506.000000  506.000000  506.000000  ...  506.000000  506.000000  506.000000\n",
              "mean     3.613523   11.363636   11.136797  ...  356.674561   12.653064   22.532806\n",
              "std      8.601545   23.322390    6.860355  ...   91.294838    7.141063    9.197104\n",
              "min      0.006320    0.000000    0.460000  ...    0.320000    1.730000    5.000000\n",
              "25%      0.082045    0.000000    5.190000  ...  375.377487    6.950000   17.025000\n",
              "50%      0.256510    0.000000    9.690000  ...  391.440002   11.360000   21.200001\n",
              "75%      3.677083   12.500000   18.100000  ...  396.225006   16.954999   25.000000\n",
              "max     88.976196  100.000000   27.740000  ...  396.899994   37.970001   50.000000\n",
              "\n",
              "[8 rows x 14 columns]"
            ]
          },
          "metadata": {},
          "execution_count": 32
        }
      ]
    },
    {
      "cell_type": "code",
      "metadata": {
        "colab": {
          "base_uri": "https://localhost:8080/"
        },
        "id": "yDzxmkadQtSA",
        "outputId": "77752d6f-590b-460f-fbe7-f135e9e60f26"
      },
      "source": [
        "#Checking null value is present and dtype\n",
        "dataset.info()"
      ],
      "execution_count": 33,
      "outputs": [
        {
          "output_type": "stream",
          "name": "stdout",
          "text": [
            "<class 'pandas.core.frame.DataFrame'>\n",
            "RangeIndex: 506 entries, 0 to 505\n",
            "Data columns (total 14 columns):\n",
            " #   Column  Non-Null Count  Dtype  \n",
            "---  ------  --------------  -----  \n",
            " 0   0       506 non-null    float32\n",
            " 1   1       506 non-null    float32\n",
            " 2   2       506 non-null    float32\n",
            " 3   3       506 non-null    float32\n",
            " 4   4       506 non-null    float32\n",
            " 5   5       506 non-null    float32\n",
            " 6   6       506 non-null    float32\n",
            " 7   7       506 non-null    float32\n",
            " 8   8       506 non-null    float32\n",
            " 9   9       506 non-null    float32\n",
            " 10  10      506 non-null    float32\n",
            " 11  11      506 non-null    float32\n",
            " 12  12      506 non-null    float32\n",
            " 13  13      506 non-null    float32\n",
            "dtypes: float32(14)\n",
            "memory usage: 27.8 KB\n"
          ]
        }
      ]
    },
    {
      "cell_type": "code",
      "metadata": {
        "colab": {
          "base_uri": "https://localhost:8080/"
        },
        "id": "GJ7f95J-Q7tV",
        "outputId": "f8dc30c3-0936-440e-f1c4-fe664c3c37d3"
      },
      "source": [
        "#Splitting into X and Y\n",
        "input=dataset.iloc[:,:dataset.shape[1]-2]\n",
        "output=dataset.iloc[:,dataset.shape[1]-1]\n",
        "print(input.head())\n",
        "print(output.head())"
      ],
      "execution_count": 34,
      "outputs": [
        {
          "output_type": "stream",
          "name": "stdout",
          "text": [
            "        0     1     2    3      4   ...      7    8      9          10          11\n",
            "0  0.00632  18.0  2.31  0.0  0.538  ...  4.0900  1.0  296.0  15.300000  396.899994\n",
            "1  0.02731   0.0  7.07  0.0  0.469  ...  4.9671  2.0  242.0  17.799999  396.899994\n",
            "2  0.02729   0.0  7.07  0.0  0.469  ...  4.9671  2.0  242.0  17.799999  392.829987\n",
            "3  0.03237   0.0  2.18  0.0  0.458  ...  6.0622  3.0  222.0  18.700001  394.630005\n",
            "4  0.06905   0.0  2.18  0.0  0.458  ...  6.0622  3.0  222.0  18.700001  396.899994\n",
            "\n",
            "[5 rows x 12 columns]\n",
            "0    24.000000\n",
            "1    21.600000\n",
            "2    34.700001\n",
            "3    33.400002\n",
            "4    36.200001\n",
            "Name: 13, dtype: float32\n"
          ]
        }
      ]
    },
    {
      "cell_type": "code",
      "metadata": {
        "colab": {
          "base_uri": "https://localhost:8080/"
        },
        "id": "1TuzgySxWfD_",
        "outputId": "c0f804ec-f6d4-4fa3-b85d-8f8d19aaee64"
      },
      "source": [
        "#Converting DataFrame to Tensor\n",
        "x=input.to_numpy()\n",
        "y=output.to_numpy()\n",
        "x=torch.from_numpy(x)\n",
        "y=torch.from_numpy(y)\n",
        "#torch.reshape(x,(input.shape[0],input.shape[1]))\n",
        "#torch.reshape(y,(output.shape[0],1))\n",
        "\n",
        "print(x.shape)\n",
        "print(y.shape)\n"
      ],
      "execution_count": 40,
      "outputs": [
        {
          "output_type": "stream",
          "name": "stdout",
          "text": [
            "torch.Size([506, 12])\n",
            "torch.Size([506])\n"
          ]
        }
      ]
    },
    {
      "cell_type": "code",
      "metadata": {
        "id": "6dtQ_itEUvvR"
      },
      "source": [
        "#For Converting DataFrame to TensorDataset\n",
        "from torch.utils.data import TensorDataset"
      ],
      "execution_count": 41,
      "outputs": []
    },
    {
      "cell_type": "code",
      "metadata": {
        "colab": {
          "base_uri": "https://localhost:8080/"
        },
        "id": "EfkzPjKzYzkO",
        "outputId": "ae3d828f-ce69-4d55-a1b9-10b5492fe9e1"
      },
      "source": [
        "#TensorDataset allows us to access a small section of the training data\n",
        "input=torch.tensor(x)\n",
        "output=torch.tensor(y)\n",
        "\n",
        "train_ds = TensorDataset(input, output)"
      ],
      "execution_count": 42,
      "outputs": [
        {
          "output_type": "stream",
          "name": "stderr",
          "text": [
            "/usr/local/lib/python3.7/dist-packages/ipykernel_launcher.py:2: UserWarning: To copy construct from a tensor, it is recommended to use sourceTensor.clone().detach() or sourceTensor.clone().detach().requires_grad_(True), rather than torch.tensor(sourceTensor).\n",
            "  \n",
            "/usr/local/lib/python3.7/dist-packages/ipykernel_launcher.py:3: UserWarning: To copy construct from a tensor, it is recommended to use sourceTensor.clone().detach() or sourceTensor.clone().detach().requires_grad_(True), rather than torch.tensor(sourceTensor).\n",
            "  This is separate from the ipykernel package so we can avoid doing imports until\n"
          ]
        }
      ]
    },
    {
      "cell_type": "code",
      "metadata": {
        "id": "Maj_wRf6Y7SW"
      },
      "source": [
        "\"\"\"\n",
        "  We'll create a DataLoader, which can split the data into batches of a predefined\n",
        " size while training. It also provides other utilities like shuffling and random sampling of the data.\n",
        "\"\"\"\n",
        "from torch.utils.data import DataLoader\n",
        "batch_size = 5\n",
        "train_dl = DataLoader(train_ds, batch_size, shuffle=True)"
      ],
      "execution_count": 118,
      "outputs": []
    },
    {
      "cell_type": "code",
      "metadata": {
        "id": "WMO6-ycYe5RW",
        "colab": {
          "base_uri": "https://localhost:8080/"
        },
        "outputId": "8454acbb-c458-42a8-c224-fa80f7c2f861"
      },
      "source": [
        "#Creating model of (Number of features Col x Number of Output Col)\n",
        "model = nn.Linear(input.shape[1],1)\n",
        "print(model.weight)\n",
        "print(model.bias)"
      ],
      "execution_count": 133,
      "outputs": [
        {
          "output_type": "stream",
          "name": "stdout",
          "text": [
            "Parameter containing:\n",
            "tensor([[-0.2709, -0.2361,  0.2479, -0.0710,  0.1775,  0.1595, -0.1139,  0.0311,\n",
            "          0.0993, -0.0782, -0.1596,  0.2152]], requires_grad=True)\n",
            "Parameter containing:\n",
            "tensor([-0.0251], requires_grad=True)\n"
          ]
        }
      ]
    },
    {
      "cell_type": "code",
      "metadata": {
        "id": "YKAjfwQLfI_u",
        "colab": {
          "base_uri": "https://localhost:8080/"
        },
        "outputId": "b368c1d5-7a9f-4351-d47b-3a7ea3a53b3a"
      },
      "source": [
        "list(model.parameters())"
      ],
      "execution_count": 120,
      "outputs": [
        {
          "output_type": "execute_result",
          "data": {
            "text/plain": [
              "[Parameter containing:\n",
              " tensor([[ 0.0918, -0.2404,  0.2046,  0.2097, -0.2711, -0.1769,  0.0682, -0.2016,\n",
              "          -0.2034, -0.2549, -0.2623,  0.0060]], requires_grad=True),\n",
              " Parameter containing:\n",
              " tensor([-0.2538], requires_grad=True)]"
            ]
          },
          "metadata": {},
          "execution_count": 120
        }
      ]
    },
    {
      "cell_type": "code",
      "metadata": {
        "id": "AJTzHyE0fRyb"
      },
      "source": [
        "#Importing MSE Loss Function\n",
        "import torch.nn.functional as F\n",
        "loss_fn = F.mse_loss"
      ],
      "execution_count": 121,
      "outputs": []
    },
    {
      "cell_type": "code",
      "metadata": {
        "id": "r6dhfPSqfYR5",
        "colab": {
          "base_uri": "https://localhost:8080/"
        },
        "outputId": "1cc621af-8de9-45b6-ffdc-df7923fc2131"
      },
      "source": [
        "#Caluclating Loss\n",
        "loss = loss_fn(model(input), output)\n",
        "print(loss.item())\n",
        "from sklearn.model_selection import train_test_split\n"
      ],
      "execution_count": 122,
      "outputs": [
        {
          "output_type": "stream",
          "name": "stdout",
          "text": [
            "18410.712890625\n"
          ]
        },
        {
          "output_type": "stream",
          "name": "stderr",
          "text": [
            "/usr/local/lib/python3.7/dist-packages/ipykernel_launcher.py:2: UserWarning: Using a target size (torch.Size([506])) that is different to the input size (torch.Size([506, 1])). This will likely lead to incorrect results due to broadcasting. Please ensure they have the same size.\n",
            "  \n"
          ]
        }
      ]
    },
    {
      "cell_type": "code",
      "metadata": {
        "id": "c8lUAAbSfgnd"
      },
      "source": [
        "opt = torch.optim.SGD(model.parameters(), lr=1e-9)"
      ],
      "execution_count": 142,
      "outputs": []
    },
    {
      "cell_type": "code",
      "metadata": {
        "id": "X_5bQJtydQHZ"
      },
      "source": [
        "def fit(num_epochs, model, loss_fn, opt, train_dl):\n",
        "    \n",
        "    # Repeat for given number of epochs\n",
        "    for epoch in range(num_epochs):\n",
        "        \n",
        "        # Train with batches of data\n",
        "        for xb,yb in train_dl:\n",
        "            \n",
        "            # 1. Generate predictions\n",
        "            pred = model(xb)\n",
        "            \n",
        "            #print(yb.shape)\n",
        "            # 2. Calculate loss\n",
        "            #yb = yb[:-1]\n",
        "            #loss = (pred - yb.mean()) / (yb.std() + 1e-9)\n",
        "            #loss.reshape(pred.shape[0], 1)\n",
        "            # 3. Compute gradients\"\n",
        "            loss=loss_fn(pred,yb)\n",
        "            loss.backward()\n",
        "            #print(yb)\n",
        "            # 4. Update parameters using gradients\n",
        "            opt.step()\n",
        "            \n",
        "            # 5. Reset the gradients to zero\n",
        "            opt.zero_grad()\n",
        "        \n",
        "        # Print the progress\n",
        "        if (epoch+1) % 10 == 0:\n",
        "            print('Epoch [{}/{}], Loss: {:.4f}'.format(epoch+1, num_epochs, loss.item()))\n"
      ],
      "execution_count": 140,
      "outputs": []
    },
    {
      "cell_type": "code",
      "metadata": {
        "colab": {
          "base_uri": "https://localhost:8080/"
        },
        "id": "_E4dho-peM4s",
        "outputId": "4588fe65-8f5c-4eba-98c2-3ef6a8dadb5c"
      },
      "source": [
        "fit(100, model, loss_fn, opt, train_dl)"
      ],
      "execution_count": 143,
      "outputs": [
        {
          "output_type": "stream",
          "name": "stderr",
          "text": [
            "/usr/local/lib/python3.7/dist-packages/ipykernel_launcher.py:18: UserWarning: Using a target size (torch.Size([5])) that is different to the input size (torch.Size([5, 1])). This will likely lead to incorrect results due to broadcasting. Please ensure they have the same size.\n",
            "/usr/local/lib/python3.7/dist-packages/ipykernel_launcher.py:18: UserWarning: Using a target size (torch.Size([1])) that is different to the input size (torch.Size([1, 1])). This will likely lead to incorrect results due to broadcasting. Please ensure they have the same size.\n"
          ]
        },
        {
          "output_type": "stream",
          "name": "stdout",
          "text": [
            "Epoch [10/100], Loss: 20071.5469\n",
            "Epoch [20/100], Loss: 2199.0322\n",
            "Epoch [30/100], Loss: 4538.7017\n",
            "Epoch [40/100], Loss: 4364.5713\n",
            "Epoch [50/100], Loss: 2152.7903\n",
            "Epoch [60/100], Loss: 294.0473\n",
            "Epoch [70/100], Loss: 1840.9786\n",
            "Epoch [80/100], Loss: 304.1095\n",
            "Epoch [90/100], Loss: 27.2005\n",
            "Epoch [100/100], Loss: 0.0010\n"
          ]
        }
      ]
    },
    {
      "cell_type": "code",
      "metadata": {
        "id": "BrfVLFZSeQCJ"
      },
      "source": [
        ""
      ],
      "execution_count": null,
      "outputs": []
    }
  ]
}